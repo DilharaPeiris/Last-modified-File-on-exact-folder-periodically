{
 "cells": [
  {
   "cell_type": "code",
   "execution_count": 17,
   "metadata": {},
   "outputs": [],
   "source": [
    "import glob\n",
    "import os"
   ]
  },
  {
   "cell_type": "code",
   "execution_count": 18,
   "metadata": {},
   "outputs": [],
   "source": [
    "#find the last modified File on exact folder path\n",
    "def getLastModifiedFile():\n",
    "    list_of_files = glob.glob('D:\\check\\*') # * means all if need specific format then *.csv\n",
    "    latest_file = max(list_of_files, key=os.path.getctime)\n",
    "    print(latest_file)"
   ]
  },
  {
   "cell_type": "code",
   "execution_count": 19,
   "metadata": {},
   "outputs": [],
   "source": [
    "#pip install timeloop"
   ]
  },
  {
   "cell_type": "code",
   "execution_count": 20,
   "metadata": {},
   "outputs": [],
   "source": [
    "import time\n",
    "from timeloop import Timeloop\n",
    "from datetime import timedelta"
   ]
  },
  {
   "cell_type": "code",
   "execution_count": 21,
   "metadata": {},
   "outputs": [],
   "source": [
    "tl = Timeloop()\n",
    "\n",
    "@tl.job(interval=timedelta(seconds=2)) #can set minutes, hours\n",
    "def sample_job_every_2s():\n",
    "    #print(\"2s job current time : {}\".format(time.ctime()))\n",
    "    getLastModifiedFile()    "
   ]
  },
  {
   "cell_type": "code",
   "execution_count": 22,
   "metadata": {},
   "outputs": [
    {
     "name": "stdout",
     "output_type": "stream",
     "text": [
      "[2020-12-27 22:14:15,353] [timeloop] [INFO] Starting Timeloop..\n",
      "[2020-12-27 22:14:15,353] [timeloop] [INFO] Starting Timeloop..\n",
      "[2020-12-27 22:14:15,369] [timeloop] [INFO] Registered job <function sample_job_every_2s at 0x0000016A4A993C18>\n",
      "[2020-12-27 22:14:15,369] [timeloop] [INFO] Registered job <function sample_job_every_2s at 0x0000016A4A993C18>\n",
      "[2020-12-27 22:14:15,369] [timeloop] [INFO] Timeloop now started. Jobs will run based on the interval set\n",
      "[2020-12-27 22:14:15,369] [timeloop] [INFO] Timeloop now started. Jobs will run based on the interval set\n",
      "D:\\check\\datasetsample_1.csv\n",
      "D:\\check\\datasetsample_1.csv\n",
      "D:\\check\\datasetsample_1.csv\n",
      "D:\\check\\datasetsample_1.csv\n",
      "D:\\check\\datasetsample_1.csv\n",
      "[2020-12-27 22:14:26,428] [timeloop] [INFO] Stopping job <function sample_job_every_2s at 0x0000016A4A993C18>\n",
      "[2020-12-27 22:14:26,428] [timeloop] [INFO] Stopping job <function sample_job_every_2s at 0x0000016A4A993C18>\n",
      "[2020-12-27 22:14:26,428] [timeloop] [INFO] Timeloop exited.\n",
      "[2020-12-27 22:14:26,428] [timeloop] [INFO] Timeloop exited.\n"
     ]
    }
   ],
   "source": [
    "if __name__ == \"__main__\":\n",
    "    tl.start(block=True)"
   ]
  },
  {
   "cell_type": "code",
   "execution_count": null,
   "metadata": {},
   "outputs": [],
   "source": [
    "\n",
    "\n",
    "\n"
   ]
  }
 ],
 "metadata": {
  "kernelspec": {
   "display_name": "Python 3",
   "language": "python",
   "name": "python3"
  },
  "language_info": {
   "codemirror_mode": {
    "name": "ipython",
    "version": 3
   },
   "file_extension": ".py",
   "mimetype": "text/x-python",
   "name": "python",
   "nbconvert_exporter": "python",
   "pygments_lexer": "ipython3",
   "version": "3.7.6"
  }
 },
 "nbformat": 4,
 "nbformat_minor": 4
}
